{
 "cells": [
  {
   "cell_type": "markdown",
   "metadata": {},
   "source": [
    "# Imports"
   ]
  },
  {
   "cell_type": "code",
   "execution_count": 1,
   "metadata": {},
   "outputs": [],
   "source": [
    "import pickle\n",
    "import numpy as np\n",
    "from tqdm import tqdm\n",
    "from IPython.display import display\n",
    "from mae_score import evaluate, eval_stats\n",
    "from data_utils import create_validationset, create_ensembleset\n",
    "\n",
    "import ubcf # user-based collaborative filtering\n",
    "import ibcf # item-based collaborative filtering\n",
    "import gcn # link prediction with LightGCN"
   ]
  },
  {
   "cell_type": "markdown",
   "metadata": {},
   "source": [
    "# Validation"
   ]
  },
  {
   "cell_type": "markdown",
   "metadata": {},
   "source": [
    "## Creating Validation Set"
   ]
  },
  {
   "cell_type": "code",
   "execution_count": 3,
   "metadata": {},
   "outputs": [],
   "source": [
    "create_validationset(ratio=0.8)"
   ]
  },
  {
   "cell_type": "markdown",
   "metadata": {},
   "source": [
    "## Cosine Similarity"
   ]
  },
  {
   "cell_type": "markdown",
   "metadata": {},
   "source": [
    "### User-Based Cosine Similarity"
   ]
  },
  {
   "cell_type": "code",
   "execution_count": 4,
   "metadata": {},
   "outputs": [
    {
     "name": "stdout",
     "output_type": "stream",
     "text": [
      "0.8841309823677582\n"
     ]
    }
   ],
   "source": [
    "model = ubcf.cosine_similarity(VALIDATION=True)\n",
    "model.predict(k=33)\n",
    "print(model.evaluate())"
   ]
  },
  {
   "cell_type": "markdown",
   "metadata": {},
   "source": [
    "#### Hyperparameter Tuning w/ Validation"
   ]
  },
  {
   "cell_type": "code",
   "execution_count": 3,
   "metadata": {},
   "outputs": [
    {
     "name": "stderr",
     "output_type": "stream",
     "text": [
      "100%|██████████| 40/40 [00:19<00:00,  2.10it/s]"
     ]
    },
    {
     "name": "stdout",
     "output_type": "stream",
     "text": [
      "\n",
      "MAE scores=\n",
      " [1.13026268 1.05397625 0.9611371  0.95106153 0.92515293 0.91615689\n",
      " 0.91327816 0.90716085 0.90464196 0.913638   0.9006837  0.8963656\n",
      " 0.89096797 0.89744512 0.89564592 0.89708528 0.89780497 0.89564592\n",
      " 0.88808924 0.89096797 0.88880892 0.89024829 0.88629003 0.88664987\n",
      " 0.88988845 0.88844908 0.88916877 0.88988845 0.88880892 0.88664987\n",
      " 0.88449082 0.88629003 0.88413098 0.88449082 0.88593019 0.88521051\n",
      " 0.88557035 0.88557035 0.88521051 0.88413098]\n",
      "\n",
      "\n",
      "Best MAE Score: 0.8841309823677582 k=33\n"
     ]
    },
    {
     "name": "stderr",
     "output_type": "stream",
     "text": [
      "\n"
     ]
    }
   ],
   "source": [
    "n = 40\n",
    "scores = np.zeros(n)\n",
    "for i in tqdm(range(n)):\n",
    "    model = ubcf.cosine_similarity(VALIDATION=True)\n",
    "    model.predict(k=i + 1)\n",
    "    score = model.evaluate()\n",
    "    scores[i] = score\n",
    "\n",
    "print('')\n",
    "print('MAE scores=\\n', scores)\n",
    "print(f'\\n\\nBest MAE Score: {scores.min()} k={scores.argmin() + 1}')"
   ]
  },
  {
   "cell_type": "markdown",
   "metadata": {},
   "source": [
    "### Item-Based Cosine Similarity"
   ]
  },
  {
   "cell_type": "code",
   "execution_count": 5,
   "metadata": {},
   "outputs": [
    {
     "name": "stdout",
     "output_type": "stream",
     "text": [
      "0.9435048578625405\n"
     ]
    }
   ],
   "source": [
    "model = ibcf.cosine_similarity(VALIDATION=True)\n",
    "model.predict(k=5)\n",
    "print(model.evaluate())"
   ]
  },
  {
   "cell_type": "markdown",
   "metadata": {},
   "source": [
    "#### Hyperparameter Tuning w/ Validation"
   ]
  },
  {
   "cell_type": "code",
   "execution_count": 3,
   "metadata": {},
   "outputs": [
    {
     "name": "stderr",
     "output_type": "stream",
     "text": [
      "100%|██████████| 40/40 [00:12<00:00,  3.15it/s]"
     ]
    },
    {
     "name": "stdout",
     "output_type": "stream",
     "text": [
      "\n",
      "MAE scores=\n",
      " [1.12234617 1.00503778 0.96293631 0.94566391 0.94350486 0.94350486\n",
      " 0.94350486 0.94350486 0.94350486 0.94350486 0.94350486 0.94350486\n",
      " 0.94350486 0.94350486 0.94350486 0.94350486 0.94350486 0.94350486\n",
      " 0.94350486 0.94350486 0.94350486 0.94350486 0.94350486 0.94350486\n",
      " 0.94350486 0.94350486 0.94350486 0.94350486 0.94350486 0.94350486\n",
      " 0.94350486 0.94350486 0.94350486 0.94350486 0.94350486 0.94350486\n",
      " 0.94350486 0.94350486 0.94350486 0.94350486]\n",
      "\n",
      "\n",
      "Best MAE Score: 0.9435048578625405 k=5\n"
     ]
    },
    {
     "name": "stderr",
     "output_type": "stream",
     "text": [
      "\n"
     ]
    }
   ],
   "source": [
    "n = 40\n",
    "scores = np.zeros(n)\n",
    "for i in tqdm(range(n)):\n",
    "    model = ibcf.cosine_similarity(VALIDATION=True)\n",
    "    model.predict(k=i + 1)\n",
    "    score = model.evaluate()\n",
    "    scores[i] = score\n",
    "\n",
    "print('')\n",
    "print('MAE scores=\\n', scores)\n",
    "print(f'\\n\\nBest MAE Score: {scores.min()} k={scores.argmin() + 1}')"
   ]
  },
  {
   "cell_type": "markdown",
   "metadata": {},
   "source": [
    "## Pearson Correlation"
   ]
  },
  {
   "cell_type": "markdown",
   "metadata": {},
   "source": [
    "### User-Based Pearson Correlation"
   ]
  },
  {
   "cell_type": "code",
   "execution_count": 6,
   "metadata": {},
   "outputs": [
    {
     "data": {
      "text/plain": [
       "0.8373515653112631"
      ]
     },
     "execution_count": 6,
     "metadata": {},
     "output_type": "execute_result"
    }
   ],
   "source": [
    "model = ubcf.pearson_correlation(VALIDATION=True)\n",
    "\n",
    "model.predict(k=34)\n",
    "model.evaluate()"
   ]
  },
  {
   "cell_type": "markdown",
   "metadata": {},
   "source": [
    "#### Hyperparameter Tuning w/ Validation"
   ]
  },
  {
   "cell_type": "code",
   "execution_count": null,
   "metadata": {},
   "outputs": [],
   "source": [
    "n = 40\n",
    "scores = np.zeros(n)\n",
    "for i in tqdm(range(n)):\n",
    "    model = ubcf.pearson_correlation(VALIDATION=True)\n",
    "    model.predict(k=i + 1)\n",
    "    score = model.evaluate()\n",
    "    scores[i] = score\n",
    "\n",
    "print(scores)\n",
    "print(f'\\n\\nBest MAE Score: {scores.min()} k={scores.argmin() + 1}')"
   ]
  },
  {
   "cell_type": "markdown",
   "metadata": {},
   "source": [
    "### User-Based Pearson Correlation w/ Inverse User Frequency"
   ]
  },
  {
   "cell_type": "code",
   "execution_count": 7,
   "metadata": {},
   "outputs": [
    {
     "data": {
      "text/plain": [
       "0.8387909319899244"
      ]
     },
     "execution_count": 7,
     "metadata": {},
     "output_type": "execute_result"
    }
   ],
   "source": [
    "model = ubcf.pearson_correlation_IUF(VALIDATION=True)\n",
    "model.predict(k=33)\n",
    "model.evaluate()"
   ]
  },
  {
   "cell_type": "markdown",
   "metadata": {},
   "source": [
    "#### Hyperparameter Tuning w/ Validation"
   ]
  },
  {
   "cell_type": "code",
   "execution_count": 6,
   "metadata": {},
   "outputs": [
    {
     "name": "stderr",
     "output_type": "stream",
     "text": [
      "100%|██████████| 40/40 [01:09<00:00,  1.75s/it]"
     ]
    },
    {
     "name": "stdout",
     "output_type": "stream",
     "text": [
      "\n",
      "MAE scores=\n",
      " [1.08096438 0.98056855 0.94890248 0.92479309 0.90572148 0.89024829\n",
      " 0.87765383 0.87333573 0.86901763 0.86505937 0.86721842 0.86505937\n",
      " 0.85354444 0.86074127 0.85390428 0.84994602 0.85210507 0.85426412\n",
      " 0.84922634 0.85210507 0.84994602 0.84850666 0.84598777 0.84418856\n",
      " 0.84418856 0.84166967 0.84274919 0.84094998 0.8402303  0.84094998\n",
      " 0.83951062 0.83987046 0.83879093 0.83879093 0.83915077 0.83987046\n",
      " 0.83951062 0.84166967 0.84238935 0.8402303 ]\n",
      "\n",
      "\n",
      "Best MAE Score: 0.8387909319899244 k=33\n"
     ]
    },
    {
     "name": "stderr",
     "output_type": "stream",
     "text": [
      "\n"
     ]
    }
   ],
   "source": [
    "n = 40\n",
    "scores = np.zeros(n)\n",
    "for i in tqdm(range(n)):\n",
    "    model = ubcf.pearson_correlation_IUF(VALIDATION=True)\n",
    "    model.predict(k=i + 1)\n",
    "    score = model.evaluate()\n",
    "    scores[i] = score\n",
    "\n",
    "print('')\n",
    "print('MAE scores=\\n', scores)\n",
    "print(f'\\n\\nBest MAE Score: {scores.min()} k={scores.argmin() + 1}')"
   ]
  },
  {
   "cell_type": "markdown",
   "metadata": {},
   "source": [
    "### User-Based Pearson Correlation w/ Case Modification"
   ]
  },
  {
   "cell_type": "code",
   "execution_count": 8,
   "metadata": {},
   "outputs": [
    {
     "data": {
      "text/plain": [
       "0.8377114069809284"
      ]
     },
     "execution_count": 8,
     "metadata": {},
     "output_type": "execute_result"
    }
   ],
   "source": [
    "model = ubcf.pearson_correlation_casemod(VALIDATION=True)\n",
    "model.predict(k=26)\n",
    "model.evaluate()"
   ]
  },
  {
   "cell_type": "markdown",
   "metadata": {},
   "source": [
    "#### Hyperparameter Tuning w/ Validation"
   ]
  },
  {
   "cell_type": "code",
   "execution_count": 3,
   "metadata": {},
   "outputs": [
    {
     "name": "stderr",
     "output_type": "stream",
     "text": [
      "100%|██████████| 40/40 [01:44<00:00,  2.62s/it]"
     ]
    },
    {
     "name": "stdout",
     "output_type": "stream",
     "text": [
      "\n",
      "MAE scores=\n",
      " [1.10255488 0.98812522 0.94602375 0.92911119 0.90392227 0.89168766\n",
      " 0.87621447 0.87405542 0.86397985 0.86505937 0.86793811 0.86362001\n",
      " 0.85462397 0.85642317 0.84778697 0.84742713 0.84958618 0.84742713\n",
      " 0.84562792 0.84706729 0.84706729 0.84742713 0.84310903 0.84094998\n",
      " 0.83951062 0.83771141 0.84059014 0.83807125 0.84059014 0.8402303\n",
      " 0.83807125 0.83843109 0.83915077 0.83843109 0.83879093 0.83843109\n",
      " 0.84202951 0.84166967 0.84130982 0.84059014]\n",
      "\n",
      "\n",
      "Best MAE Score: 0.8377114069809284 k=26\n"
     ]
    },
    {
     "name": "stderr",
     "output_type": "stream",
     "text": [
      "\n"
     ]
    }
   ],
   "source": [
    "n = 40\n",
    "scores = np.zeros(n)\n",
    "for i in tqdm(range(n)):\n",
    "    model = ubcf.pearson_correlation_casemod(VALIDATION=True)\n",
    "    model.predict(k=i + 1)\n",
    "    score = model.evaluate()\n",
    "    scores[i] = score\n",
    "\n",
    "print('')\n",
    "print('MAE scores=\\n', scores)\n",
    "print(f'\\n\\nBest MAE Score: {scores.min()} k={scores.argmin() + 1}')"
   ]
  },
  {
   "cell_type": "markdown",
   "metadata": {},
   "source": [
    "## Custom Algorithms"
   ]
  },
  {
   "cell_type": "markdown",
   "metadata": {},
   "source": [
    "### Ensemble"
   ]
  },
  {
   "cell_type": "code",
   "execution_count": 2,
   "metadata": {},
   "outputs": [
    {
     "ename": "ValueError",
     "evalue": "all the input array dimensions except for the concatenation axis must match exactly, but along dimension 0, the array at index 0 has size 160 and the array at index 1 has size 40",
     "output_type": "error",
     "traceback": [
      "\u001b[0;31m---------------------------------------------------------------------------\u001b[0m",
      "\u001b[0;31mValueError\u001b[0m                                Traceback (most recent call last)",
      "Cell \u001b[0;32mIn[2], line 1\u001b[0m\n\u001b[0;32m----> 1\u001b[0m ensemble \u001b[38;5;241m=\u001b[39m \u001b[43mubcf\u001b[49m\u001b[38;5;241;43m.\u001b[39;49m\u001b[43mensemble\u001b[49m\u001b[43m(\u001b[49m\n\u001b[1;32m      2\u001b[0m \u001b[43m    \u001b[49m\u001b[43mubcf\u001b[49m\u001b[38;5;241;43m.\u001b[39;49m\u001b[43mcosine_similarity\u001b[49m\u001b[43m,\u001b[49m\u001b[43m \u001b[49m\n\u001b[1;32m      3\u001b[0m \u001b[43m    \u001b[49m\u001b[43mubcf\u001b[49m\u001b[38;5;241;43m.\u001b[39;49m\u001b[43mpearson_correlation\u001b[49m\u001b[43m,\u001b[49m\n\u001b[1;32m      4\u001b[0m \u001b[43m    \u001b[49m\u001b[43mubcf\u001b[49m\u001b[38;5;241;43m.\u001b[39;49m\u001b[43mpearson_correlation_IUF\u001b[49m\u001b[43m,\u001b[49m\n\u001b[1;32m      5\u001b[0m \u001b[43m    \u001b[49m\u001b[43mibcf\u001b[49m\u001b[38;5;241;43m.\u001b[39;49m\u001b[43mcosine_similarity\u001b[49m\u001b[43m,\u001b[49m\n\u001b[1;32m      6\u001b[0m \u001b[43m    \u001b[49m\u001b[43mVALIDATION\u001b[49m\u001b[38;5;241;43m=\u001b[39;49m\u001b[38;5;28;43;01mTrue\u001b[39;49;00m\n\u001b[1;32m      7\u001b[0m \u001b[43m)\u001b[49m\n\u001b[1;32m      9\u001b[0m ensemble\u001b[38;5;241m.\u001b[39mset_k(\n\u001b[1;32m     10\u001b[0m     \u001b[38;5;241m33\u001b[39m, \n\u001b[1;32m     11\u001b[0m     \u001b[38;5;241m34\u001b[39m, \n\u001b[1;32m     12\u001b[0m     \u001b[38;5;241m33\u001b[39m, \n\u001b[1;32m     13\u001b[0m     \u001b[38;5;241m5\u001b[39m\n\u001b[1;32m     14\u001b[0m )\n\u001b[1;32m     16\u001b[0m ensemble\u001b[38;5;241m.\u001b[39mset_weights(\n\u001b[1;32m     17\u001b[0m     \u001b[38;5;241m0.2\u001b[39m, \n\u001b[1;32m     18\u001b[0m     \u001b[38;5;241m0.6\u001b[39m, \n\u001b[1;32m     19\u001b[0m     \u001b[38;5;241m0.1\u001b[39m,\n\u001b[1;32m     20\u001b[0m     \u001b[38;5;241m.01\u001b[39m\n\u001b[1;32m     21\u001b[0m )\n",
      "File \u001b[0;32m~/Documents/SCU/YEAR3/WINTER24/CSEN169/Proj2/ubcf.py:336\u001b[0m, in \u001b[0;36mensemble.__init__\u001b[0;34m(self, file_num, VALIDATION, *model_classes)\u001b[0m\n\u001b[1;32m    333\u001b[0m \u001b[38;5;28;01mdef\u001b[39;00m \u001b[38;5;21m__init__\u001b[39m(\u001b[38;5;28mself\u001b[39m, \u001b[38;5;241m*\u001b[39mmodel_classes, file_num\u001b[38;5;241m=\u001b[39m\u001b[38;5;241m5\u001b[39m, VALIDATION\u001b[38;5;241m=\u001b[39m\u001b[38;5;28;01mFalse\u001b[39;00m) \u001b[38;5;241m-\u001b[39m\u001b[38;5;241m>\u001b[39m \u001b[38;5;28;01mNone\u001b[39;00m:\n\u001b[1;32m    334\u001b[0m     \u001b[38;5;28msuper\u001b[39m()\u001b[38;5;241m.\u001b[39m\u001b[38;5;21m__init__\u001b[39m(file_num, VALIDATION)\n\u001b[0;32m--> 336\u001b[0m     \u001b[38;5;28mself\u001b[39m\u001b[38;5;241m.\u001b[39mmodels \u001b[38;5;241m=\u001b[39m [model_class(file_num, VALIDATION) \u001b[38;5;28;01mfor\u001b[39;00m model_class \u001b[38;5;129;01min\u001b[39;00m model_classes]\n\u001b[1;32m    337\u001b[0m     \u001b[38;5;28mself\u001b[39m\u001b[38;5;241m.\u001b[39mweights \u001b[38;5;241m=\u001b[39m np\u001b[38;5;241m.\u001b[39mrandom\u001b[38;5;241m.\u001b[39mrand(\u001b[38;5;28mlen\u001b[39m(\u001b[38;5;28mself\u001b[39m\u001b[38;5;241m.\u001b[39mmodels))\n\u001b[1;32m    339\u001b[0m     \u001b[38;5;28;01mif\u001b[39;00m \u001b[38;5;28mlen\u001b[39m(model_classes) \u001b[38;5;241m==\u001b[39m \u001b[38;5;241m0\u001b[39m:\n",
      "File \u001b[0;32m~/Documents/SCU/YEAR3/WINTER24/CSEN169/Proj2/ubcf.py:336\u001b[0m, in \u001b[0;36m<listcomp>\u001b[0;34m(.0)\u001b[0m\n\u001b[1;32m    333\u001b[0m \u001b[38;5;28;01mdef\u001b[39;00m \u001b[38;5;21m__init__\u001b[39m(\u001b[38;5;28mself\u001b[39m, \u001b[38;5;241m*\u001b[39mmodel_classes, file_num\u001b[38;5;241m=\u001b[39m\u001b[38;5;241m5\u001b[39m, VALIDATION\u001b[38;5;241m=\u001b[39m\u001b[38;5;28;01mFalse\u001b[39;00m) \u001b[38;5;241m-\u001b[39m\u001b[38;5;241m>\u001b[39m \u001b[38;5;28;01mNone\u001b[39;00m:\n\u001b[1;32m    334\u001b[0m     \u001b[38;5;28msuper\u001b[39m()\u001b[38;5;241m.\u001b[39m\u001b[38;5;21m__init__\u001b[39m(file_num, VALIDATION)\n\u001b[0;32m--> 336\u001b[0m     \u001b[38;5;28mself\u001b[39m\u001b[38;5;241m.\u001b[39mmodels \u001b[38;5;241m=\u001b[39m [\u001b[43mmodel_class\u001b[49m\u001b[43m(\u001b[49m\u001b[43mfile_num\u001b[49m\u001b[43m,\u001b[49m\u001b[43m \u001b[49m\u001b[43mVALIDATION\u001b[49m\u001b[43m)\u001b[49m \u001b[38;5;28;01mfor\u001b[39;00m model_class \u001b[38;5;129;01min\u001b[39;00m model_classes]\n\u001b[1;32m    337\u001b[0m     \u001b[38;5;28mself\u001b[39m\u001b[38;5;241m.\u001b[39mweights \u001b[38;5;241m=\u001b[39m np\u001b[38;5;241m.\u001b[39mrandom\u001b[38;5;241m.\u001b[39mrand(\u001b[38;5;28mlen\u001b[39m(\u001b[38;5;28mself\u001b[39m\u001b[38;5;241m.\u001b[39mmodels))\n\u001b[1;32m    339\u001b[0m     \u001b[38;5;28;01mif\u001b[39;00m \u001b[38;5;28mlen\u001b[39m(model_classes) \u001b[38;5;241m==\u001b[39m \u001b[38;5;241m0\u001b[39m:\n",
      "File \u001b[0;32m~/Documents/SCU/YEAR3/WINTER24/CSEN169/Proj2/ibcf.py:95\u001b[0m, in \u001b[0;36mcosine_similarity.__init__\u001b[0;34m(self, file_num, VALIDATION)\u001b[0m\n\u001b[1;32m     94\u001b[0m \u001b[38;5;28;01mdef\u001b[39;00m \u001b[38;5;21m__init__\u001b[39m(\u001b[38;5;28mself\u001b[39m, file_num\u001b[38;5;241m=\u001b[39m\u001b[38;5;241m5\u001b[39m, VALIDATION\u001b[38;5;241m=\u001b[39m\u001b[38;5;28;01mFalse\u001b[39;00m) \u001b[38;5;241m-\u001b[39m\u001b[38;5;241m>\u001b[39m \u001b[38;5;28;01mNone\u001b[39;00m:\n\u001b[0;32m---> 95\u001b[0m     \u001b[38;5;28;43msuper\u001b[39;49m\u001b[43m(\u001b[49m\u001b[43m)\u001b[49m\u001b[38;5;241;43m.\u001b[39;49m\u001b[38;5;21;43m__init__\u001b[39;49m\u001b[43m(\u001b[49m\u001b[43mfile_num\u001b[49m\u001b[43m,\u001b[49m\u001b[43m \u001b[49m\u001b[43mVALIDATION\u001b[49m\u001b[43m)\u001b[49m\n",
      "File \u001b[0;32m~/Documents/SCU/YEAR3/WINTER24/CSEN169/Proj2/ibcf.py:24\u001b[0m, in \u001b[0;36mibcf.__init__\u001b[0;34m(self, file_num, VALIDATION)\u001b[0m\n\u001b[1;32m     21\u001b[0m \u001b[38;5;28mself\u001b[39m\u001b[38;5;241m.\u001b[39mT \u001b[38;5;241m=\u001b[39m \u001b[38;5;28mself\u001b[39m\u001b[38;5;241m.\u001b[39mT\u001b[38;5;241m.\u001b[39mtranspose()\n\u001b[1;32m     23\u001b[0m \u001b[38;5;66;03m# matrix with rows of movies and columns of users from training and test sets\u001b[39;00m\n\u001b[0;32m---> 24\u001b[0m \u001b[38;5;28mself\u001b[39m\u001b[38;5;241m.\u001b[39mXT \u001b[38;5;241m=\u001b[39m \u001b[43mnp\u001b[49m\u001b[38;5;241;43m.\u001b[39;49m\u001b[43mhstack\u001b[49m\u001b[43m(\u001b[49m\u001b[43m(\u001b[49m\u001b[38;5;28;43mself\u001b[39;49m\u001b[38;5;241;43m.\u001b[39;49m\u001b[43mX\u001b[49m\u001b[43m,\u001b[49m\u001b[43m \u001b[49m\u001b[38;5;28;43mself\u001b[39;49m\u001b[38;5;241;43m.\u001b[39;49m\u001b[43mT\u001b[49m\u001b[43m)\u001b[49m\u001b[43m)\u001b[49m\n",
      "File \u001b[0;32m<__array_function__ internals>:200\u001b[0m, in \u001b[0;36mhstack\u001b[0;34m(*args, **kwargs)\u001b[0m\n",
      "File \u001b[0;32m/Library/Frameworks/Python.framework/Versions/3.10/lib/python3.10/site-packages/numpy/core/shape_base.py:370\u001b[0m, in \u001b[0;36mhstack\u001b[0;34m(tup, dtype, casting)\u001b[0m\n\u001b[1;32m    368\u001b[0m     \u001b[38;5;28;01mreturn\u001b[39;00m _nx\u001b[38;5;241m.\u001b[39mconcatenate(arrs, \u001b[38;5;241m0\u001b[39m, dtype\u001b[38;5;241m=\u001b[39mdtype, casting\u001b[38;5;241m=\u001b[39mcasting)\n\u001b[1;32m    369\u001b[0m \u001b[38;5;28;01melse\u001b[39;00m:\n\u001b[0;32m--> 370\u001b[0m     \u001b[38;5;28;01mreturn\u001b[39;00m \u001b[43m_nx\u001b[49m\u001b[38;5;241;43m.\u001b[39;49m\u001b[43mconcatenate\u001b[49m\u001b[43m(\u001b[49m\u001b[43marrs\u001b[49m\u001b[43m,\u001b[49m\u001b[43m \u001b[49m\u001b[38;5;241;43m1\u001b[39;49m\u001b[43m,\u001b[49m\u001b[43m \u001b[49m\u001b[43mdtype\u001b[49m\u001b[38;5;241;43m=\u001b[39;49m\u001b[43mdtype\u001b[49m\u001b[43m,\u001b[49m\u001b[43m \u001b[49m\u001b[43mcasting\u001b[49m\u001b[38;5;241;43m=\u001b[39;49m\u001b[43mcasting\u001b[49m\u001b[43m)\u001b[49m\n",
      "File \u001b[0;32m<__array_function__ internals>:200\u001b[0m, in \u001b[0;36mconcatenate\u001b[0;34m(*args, **kwargs)\u001b[0m\n",
      "\u001b[0;31mValueError\u001b[0m: all the input array dimensions except for the concatenation axis must match exactly, but along dimension 0, the array at index 0 has size 160 and the array at index 1 has size 40"
     ]
    }
   ],
   "source": [
    "ensemble = ubcf.ensemble(\n",
    "    ubcf.cosine_similarity, \n",
    "    ubcf.pearson_correlation,\n",
    "    ubcf.pearson_correlation_IUF,\n",
    "    ibcf.cosine_similarity,\n",
    "    VALIDATION=True\n",
    ")\n",
    "\n",
    "ensemble.set_k(\n",
    "    33, \n",
    "    34, \n",
    "    33, \n",
    "    5\n",
    ")\n",
    "\n",
    "ensemble.set_weights(\n",
    "    0.2, \n",
    "    0.6, \n",
    "    0.1,\n",
    "    .01\n",
    ")\n",
    "\n",
    "print('w =', ensemble.weights)\n",
    "ensemble.predict()\n",
    "ensemble.evaluate()"
   ]
  },
  {
   "cell_type": "code",
   "execution_count": null,
   "metadata": {},
   "outputs": [],
   "source": [
    "ensemble = ubcf.ensemble(\n",
    "    ubcf.cosine_similarity,\n",
    "    ubcf.cosine_similarity,\n",
    "    ubcf.pearson_correlation,\n",
    "    ubcf.pearson_correlation,\n",
    "    ubcf.pearson_correlation_IUF,\n",
    "    ubcf.pearson_correlation_IUF,\n",
    "    ubcf.pearson_correlation_casemod,\n",
    "    ubcf.pearson_correlation_casemod,\n",
    "    VALIDATION=True\n",
    ")\n",
    "\n",
    "ensemble.set_k(\n",
    "    33,\n",
    "    20,\n",
    "    34,\n",
    "    45,\n",
    "    33,\n",
    "    15,\n",
    "    26,\n",
    "    10\n",
    ")\n",
    "\n",
    "print(ensemble.weights)\n",
    "ensemble.train()\n",
    "print(ensemble.weights)\n",
    "\n",
    "ensemble.predict()\n",
    "ensemble.evaluate()"
   ]
  },
  {
   "cell_type": "markdown",
   "metadata": {},
   "source": [
    "#### Hyperparameter Tuning w/ Validation"
   ]
  },
  {
   "cell_type": "markdown",
   "metadata": {},
   "source": [
    "### User-Based Pearson Correlation w/ Link Prediction Punishment"
   ]
  },
  {
   "cell_type": "code",
   "execution_count": 6,
   "metadata": {},
   "outputs": [
    {
     "data": {
      "text/plain": [
       "1.5444404462036705"
      ]
     },
     "execution_count": 6,
     "metadata": {},
     "output_type": "execute_result"
    }
   ],
   "source": [
    "model = gcn.link_prediction(VALIDATION=True)\n",
    "\n",
    "model.predict()\n",
    "model.evaluate()"
   ]
  },
  {
   "cell_type": "code",
   "execution_count": 4,
   "metadata": {},
   "outputs": [
    {
     "name": "stdout",
     "output_type": "stream",
     "text": [
      "[0.05824033 0.13008102 0.19028459 0.98177447 0.75652937 0.36334604\n",
      " 0.70889785 0.21173074]\n",
      "[ 0.32432359  0.09659688  0.64078264 -0.87686836  0.34938404  0.12123744\n",
      "  0.12592728  0.19344294]\n"
     ]
    },
    {
     "data": {
      "text/plain": [
       "0.8344728319539403"
      ]
     },
     "execution_count": 4,
     "metadata": {},
     "output_type": "execute_result"
    }
   ],
   "source": []
  },
  {
   "cell_type": "markdown",
   "metadata": {},
   "source": [
    "# Testing\n",
    "\n",
    "The predicted ratings will be written in text files located in data/results/\n",
    "<br>\n",
    "- [results5](data/results/results5.txt)\n",
    "- [results10](data/results/results10.txt)\n",
    "- [results20](data/results//results20.txt)"
   ]
  },
  {
   "cell_type": "markdown",
   "metadata": {},
   "source": [
    "#### User-based Cosine Similarity"
   ]
  },
  {
   "cell_type": "code",
   "execution_count": 2,
   "metadata": {},
   "outputs": [],
   "source": [
    "for n in [5, 10, 20]:    \n",
    "    model = ubcf.cosine_similarity(file_num=n, VALIDATION=False)\n",
    "    model.predict(k=33)"
   ]
  },
  {
   "cell_type": "markdown",
   "metadata": {},
   "source": [
    "#### User-based Pearson Correlation"
   ]
  },
  {
   "cell_type": "code",
   "execution_count": 21,
   "metadata": {},
   "outputs": [],
   "source": [
    "model = ubcf.pearson_correlation(file_num=5, VALIDATION=False)\n",
    "model.predict(k=45)\n",
    "\n",
    "model = ubcf.pearson_correlation(file_num=10, VALIDATION=False)\n",
    "model.predict(k=41)\n",
    "\n",
    "model = ubcf.pearson_correlation(file_num=20, VALIDATION=False)\n",
    "model.predict(k=33)"
   ]
  },
  {
   "cell_type": "markdown",
   "metadata": {},
   "source": [
    "#### User-based Pearson Correlation w/ IUF"
   ]
  },
  {
   "cell_type": "code",
   "execution_count": null,
   "metadata": {},
   "outputs": [],
   "source": [
    "for n in [5, 10, 20]:    \n",
    "    model = ubcf.pearson_correlation_IUF(file_num=n, VALIDATION=False)\n",
    "    model.predict(k=33)"
   ]
  },
  {
   "cell_type": "markdown",
   "metadata": {},
   "source": [
    "#### User-based Pearson Correlatin w/ Case Modification"
   ]
  },
  {
   "cell_type": "code",
   "execution_count": 3,
   "metadata": {},
   "outputs": [],
   "source": [
    "for n in [5, 10, 20]:    \n",
    "    model = ubcf.pearson_correlation_casemod(file_num=n, VALIDATION=False)\n",
    "    model.predict(k=26)"
   ]
  },
  {
   "cell_type": "markdown",
   "metadata": {},
   "source": [
    "#### Item-based Cosine Similarity"
   ]
  },
  {
   "cell_type": "code",
   "execution_count": 2,
   "metadata": {},
   "outputs": [],
   "source": [
    "for n in [5, 10, 20]:    \n",
    "    model = ibcf.cosine_similarity(file_num=n, VALIDATION=False)\n",
    "    model.predict(k=5)"
   ]
  },
  {
   "cell_type": "code",
   "execution_count": 7,
   "metadata": {},
   "outputs": [],
   "source": [
    "for n in [5, 10, 20]:\n",
    "    ensemble = ubcf.ensemble(\n",
    "        ubcf.cosine_similarity, \n",
    "        ubcf.pearson_correlation,\n",
    "        ubcf.pearson_correlation_IUF,\n",
    "        # ubcf.pearson_correlation_casemod,\n",
    "        file_num=n,\n",
    "        VALIDATION=False\n",
    "    )\n",
    "\n",
    "    ensemble.set_k(\n",
    "        33, \n",
    "        34, \n",
    "        33, \n",
    "        # 26\n",
    "    )\n",
    "\n",
    "    ensemble.set_weights(\n",
    "        0.40460079, \n",
    "        0.0729932,\n",
    "        0.49376735\n",
    "    )\n",
    "\n",
    "    ensemble.predict()"
   ]
  },
  {
   "cell_type": "code",
   "execution_count": 11,
   "metadata": {},
   "outputs": [
    {
     "data": {
      "text/plain": [
       "array([[401,   2,   3],\n",
       "       [401,   4,   3],\n",
       "       [401,   8,   4],\n",
       "       ...,\n",
       "       [500, 811,   4],\n",
       "       [500, 933,   2],\n",
       "       [500, 958,   3]])"
      ]
     },
     "execution_count": 11,
     "metadata": {},
     "output_type": "execute_result"
    }
   ],
   "source": [
    "ensemble = ubcf.ensemble(\n",
    "    ubcf.cosine_similarity, \n",
    "    ubcf.pearson_correlation,\n",
    "    ubcf.pearson_correlation_IUF,\n",
    "    file_num=20,\n",
    "    VALIDATION=False\n",
    ")\n",
    "\n",
    "ensemble.set_k(\n",
    "    33, \n",
    "    34, \n",
    "    34, \n",
    ")\n",
    "\n",
    "ensemble.set_weights(\n",
    "    0.2,\n",
    "    0.6,\n",
    "    0.2\n",
    ")\n",
    "\n",
    "ensemble.predict()"
   ]
  }
 ],
 "metadata": {
  "kernelspec": {
   "display_name": "Python 3",
   "language": "python",
   "name": "python3"
  },
  "language_info": {
   "codemirror_mode": {
    "name": "ipython",
    "version": 3
   },
   "file_extension": ".py",
   "mimetype": "text/x-python",
   "name": "python",
   "nbconvert_exporter": "python",
   "pygments_lexer": "ipython3",
   "version": "3.10.10"
  }
 },
 "nbformat": 4,
 "nbformat_minor": 2
}
